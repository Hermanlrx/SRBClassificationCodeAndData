{
 "cells": [
  {
   "cell_type": "code",
   "execution_count": null,
   "metadata": {},
   "outputs": [],
   "source": [
    "from ultralytics import YOLO\n",
    "import ultralytics\n",
    "import torch\n",
    "from torch import nn\n",
    "from torch.utils.data import DataLoader\n",
    "import torchvision.transforms as transforms\n",
    "from ultralytics import utils\n",
    "\n",
    "\n",
    "\n",
    "\n",
    "model = YOLO(r\"path/to/yolov8x-cls.pt\")\n",
    "\n",
    "# Train the model with augmentations DISABLED\n",
    "model.train(\n",
    "    data=r'/path/to/Dataset_Comparison',\n",
    "    epochs=20,\n",
    "    imgsz=128,\n",
    "    augment=False,\n",
    "    auto_augment = False,  # Disables all augmentations (AutoAugment, RandAugment, etc.)\n",
    "    hsv_h=0.0,     # Disable HSV augmentation\n",
    "    hsv_s=0.0,\n",
    "    hsv_v=0.0,\n",
    "    flipud=0.0,    # Disable vertical flips\n",
    "    fliplr=0.0,    # Disable horizontal flips\n",
    "    degrees=0.0,   # Disable rotation\n",
    "    translate=0.0, # Disable translation\n",
    "    scale=0.0,     # Disable scaling\n",
    "    shear=0.0,     # Disable shearing\n",
    "    perspective=0.0, \n",
    "    erasing = 0.0# Disable perspective transforms\n",
    ")"
   ]
  },
  {
   "cell_type": "code",
   "execution_count": null,
   "metadata": {},
   "outputs": [],
   "source": []
  }
 ],
 "metadata": {
  "kernelspec": {
   "display_name": "Python 3.8 (Pytroch)",
   "language": "python",
   "name": "pytorchlearning"
  },
  "language_info": {
   "codemirror_mode": {
    "name": "ipython",
    "version": 3
   },
   "file_extension": ".py",
   "mimetype": "text/x-python",
   "name": "python",
   "nbconvert_exporter": "python",
   "pygments_lexer": "ipython3",
   "version": "3.12.2"
  }
 },
 "nbformat": 4,
 "nbformat_minor": 2
}
