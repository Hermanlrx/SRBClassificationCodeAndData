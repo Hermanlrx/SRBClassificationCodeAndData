{
 "cells": [
  {
   "cell_type": "code",
   "execution_count": null,
   "metadata": {},
   "outputs": [],
   "source": [
    "from ultralytics import YOLO\n",
    "import csv\n",
    "import numpy as np\n",
    "import os\n",
    "\n",
    "def write_csv(filename, data):\n",
    "    with open(filename, 'a') as f:\n",
    "        writer = csv.writer(f)\n",
    "        writer.writerow(data)\n",
    "\n",
    "\n",
    "model = YOLO(r'your/directory/best.pt')\n",
    "\n",
    "def list_absolute_file_directories(folder_path):\n",
    "    absolute_directories = []\n",
    "    for root, dirs, files in os.walk(folder_path):\n",
    "        for file in files:\n",
    "            absolute_path = os.path.join(root, file)\n",
    "            absolute_directories.append(absolute_path)\n",
    "    return absolute_directories\n",
    "\n",
    "folder_path = r\"your/directory/TestM\"\n",
    "absolute_directories = list_absolute_file_directories(folder_path)\n",
    "\n",
    "\n",
    "\n",
    "\n",
    "for i in range(len(absolute_directories)): \n",
    "    result = model(absolute_directories[i])\n",
    "    print(\"after prediction\")\n",
    "    names_dict = result[0].names\n",
    "    probs = result[0].probs.data.tolist()  \n",
    "    print(names_dict)\n",
    "    print(probs)\n",
    "    print(names_dict[np.argmax(probs)])\n",
    "    write_csv(\"new.csv\",[absolute_directories[i][0],absolute_directories[i][1:],names_dict[np.argmax(probs)],probs]) "
   ]
  }
 ],
 "metadata": {
  "kernelspec": {
   "display_name": "Python 3.9 (pytorch)",
   "language": "python",
   "name": "pytorch"
  },
  "language_info": {
   "codemirror_mode": {
    "name": "ipython",
    "version": 3
   },
   "file_extension": ".py",
   "mimetype": "text/x-python",
   "name": "python",
   "nbconvert_exporter": "python",
   "pygments_lexer": "ipython3",
   "version": "3.9.21"
  }
 },
 "nbformat": 4,
 "nbformat_minor": 2
}
